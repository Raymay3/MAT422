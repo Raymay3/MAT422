{
  "nbformat": 4,
  "nbformat_minor": 0,
  "metadata": {
    "colab": {
      "provenance": [],
      "toc_visible": true,
      "authorship_tag": "ABX9TyOZXqSvBs/CM7+NdBetxXxY",
      "include_colab_link": true
    },
    "kernelspec": {
      "name": "python3",
      "display_name": "Python 3"
    },
    "language_info": {
      "name": "python"
    }
  },
  "cells": [
    {
      "cell_type": "markdown",
      "metadata": {
        "id": "view-in-github",
        "colab_type": "text"
      },
      "source": [
        "<a href=\"https://colab.research.google.com/github/Raymay3/MAT422/blob/main/HW%203.4.ipynb\" target=\"_parent\"><img src=\"https://colab.research.google.com/assets/colab-badge.svg\" alt=\"Open In Colab\"/></a>"
      ]
    },
    {
      "cell_type": "markdown",
      "source": [
        "# **Section 3.4. Logistic Regression**\n",
        "\n",
        "***Logistic Regression and Gradient Descent***\n",
        "\n",
        "Logistic regression is used to model the probability of a binary outcome based on a set of input features. In this demonstration, we'll implement the basic logistic regression algorithm using **gradient descent** to minimize the **cross-entropy loss**.\n",
        "\n",
        "Here, we will demonstrate key concepts from the logistic regression section, including:\n",
        "1. Logistic function and its properties.\n",
        "2. Cross-entropy loss.\n",
        "3. Gradient computation and gradient descent updates.\n",
        "4. Stochastic gradient descent.\n",
        "\n",
        "**Example 1: Logistic Function and Sigmoid**\n",
        "\n",
        "The logistic (or sigmoid) function is used to convert real-valued inputs into probabilities between 0 and 1. It is defined as:\n",
        "\n",
        "\\\n",
        "\\begin{aligned}\n",
        "\\sigma(t) = \\frac{1}{1 + e^{-t}}\n",
        "\\end{aligned}"
      ],
      "metadata": {
        "id": "hK1uLnk7cggR"
      }
    },
    {
      "cell_type": "code",
      "source": [
        "import numpy as np\n",
        "import matplotlib.pyplot as plt\n",
        "\n",
        "# Define the sigmoid function\n",
        "def sigmoid(t):\n",
        "    return 1 / (1 + np.exp(-t))\n",
        "\n",
        "# Generate input data\n",
        "t = np.linspace(-10, 10, 100)\n",
        "\n",
        "# Plot sigmoid function\n",
        "plt.plot(t, sigmoid(t), label=\"Sigmoid function\")\n",
        "plt.title(\"Sigmoid Function\")\n",
        "plt.xlabel(\"t\")\n",
        "plt.ylabel(\"σ(t)\")\n",
        "plt.grid(True)\n",
        "plt.legend()\n",
        "plt.show()"
      ],
      "metadata": {
        "colab": {
          "base_uri": "https://localhost:8080/",
          "height": 472
        },
        "id": "goU2vDsd0mn5",
        "outputId": "fc4a8f4f-4993-4c17-a9ff-e566e1081863"
      },
      "execution_count": 1,
      "outputs": [
        {
          "output_type": "display_data",
          "data": {
            "text/plain": [
              "<Figure size 640x480 with 1 Axes>"
            ],
            "image/png": "[encoded data removed]"
          },
          "metadata": {}
        }
      ]
    },
    {
      "cell_type": "markdown",
      "source": [
        "**Explanation:**\n",
        "\n",
        "The sigmoid function transforms any real-valued number into the range (0, 1). This function is key in logistic regression, where we interpret the output as a probability that a given input belongs to the positive class (1).\n",
        "\n",
        "---\n",
        "\n",
        "**Example 2: Cross-Entropy Loss for Logistic Regression**\n",
        "\n",
        "The cross-entropy loss is a measure of how well a logistic regression model is performing. Given $A \\in \\mathbb{R}^{n \\times d}$ as the input features and $b \\in \\{0, 1\\}^n$ as the labels, the cross-entropy loss for logistic regression is given by:\n",
        "\n",
        "\\\n",
        "\\begin{aligned}\n",
        "L(x; A, b) = - \\frac{1}{n} \\sum_{i=1}^{n} \\left[ b_i \\log(\\sigma(\\alpha_i^T x)) + (1 - b_i) \\log(1 - \\sigma(\\alpha_i^T x)) \\right]\n",
        "\\end{aligned}"
      ],
      "metadata": {
        "id": "vA9env9y0rsv"
      }
    },
    {
      "cell_type": "code",
      "source": [
        "# Define the cross-entropy loss\n",
        "def cross_entropy_loss(X, y, theta):\n",
        "    predictions = sigmoid(X @ theta)\n",
        "    return -1 / len(y) * np.sum(y * np.log(predictions) + (1 - y) * np.log(1 - predictions))\n",
        "\n",
        "# Example dataset\n",
        "X = np.array([[1, 2], [1, 3], [1, 4], [1, 5]])  # Features (including bias term)\n",
        "y = np.array([0, 0, 1, 1])  # Labels\n",
        "theta = np.array([0.1, 0.2])  # Initial parameters\n",
        "\n",
        "# Compute the loss\n",
        "loss = cross_entropy_loss(X, y, theta)\n",
        "print(f\"Cross-Entropy Loss: {loss:.4f}\")"
      ],
      "metadata": {
        "colab": {
          "base_uri": "https://localhost:8080/"
        },
        "id": "WJDXfepF1Spp",
        "outputId": "d3cc0584-c1d3-47cf-dec5-cf6224fbd12a"
      },
      "execution_count": 2,
      "outputs": [
        {
          "output_type": "stream",
          "name": "stdout",
          "text": [
            "Cross-Entropy Loss: 0.6764\n"
          ]
        }
      ]
    },
    {
      "cell_type": "markdown",
      "source": [
        "**Explanation:**\n",
        "\n",
        "The cross-entropy loss measures how different the predicted probabilities are from the actual binary labels. A smaller loss indicates a better model fit.\n",
        "\n",
        "---\n",
        "\n",
        "**Example 3: Gradient Descent for Logistic Regression**\n",
        "\n",
        "To minimize the cross-entropy loss, we use **gradient descent**, where the update rule is:\n",
        "\n",
        "\\\n",
        "\\begin{aligned}\n",
        "x_{k+1} = x_k + \\beta \\frac{1}{n} \\sum_{i=1}^{n} \\left( b_i - \\sigma(\\alpha_i^T x_k) \\right) \\alpha_i\n",
        "\\end{aligned}"
      ],
      "metadata": {
        "id": "yo7ip4Tr1YKQ"
      }
    },
    {
      "cell_type": "code",
      "source": [
        "# Define the gradient of the cross-entropy loss\n",
        "def gradient(X, y, theta):\n",
        "    predictions = sigmoid(X @ theta)\n",
        "    return X.T @ (predictions - y) / len(y)\n",
        "\n",
        "# Define the gradient descent algorithm\n",
        "def gradient_descent(X, y, theta, learning_rate, num_iterations):\n",
        "    for i in range(num_iterations):\n",
        "        grad = gradient(X, y, theta)\n",
        "        theta -= learning_rate * grad\n",
        "\n",
        "        # Compute and print loss every 100 iterations\n",
        "        if i % 100 == 0:\n",
        "            loss = cross_entropy_loss(X, y, theta)\n",
        "            print(f\"Iteration {i}: Loss = {loss:.4f}\")\n",
        "\n",
        "    return theta\n",
        "\n",
        "# Hyperparameters\n",
        "learning_rate = 0.1\n",
        "num_iterations = 1000\n",
        "\n",
        "# Perform gradient descent\n",
        "theta_optimal = gradient_descent(X, y, theta, learning_rate, num_iterations)\n",
        "print(\"Optimal parameters:\", theta_optimal)"
      ],
      "metadata": {
        "colab": {
          "base_uri": "https://localhost:8080/"
        },
        "id": "0rdGFJa_Eu6L",
        "outputId": "d52d7ee1-027d-415f-8a3e-08c04b9d82df"
      },
      "execution_count": 3,
      "outputs": [
        {
          "output_type": "stream",
          "name": "stdout",
          "text": [
            "Iteration 0: Loss = 0.6694\n",
            "Iteration 100: Loss = 0.5314\n",
            "Iteration 200: Loss = 0.4423\n",
            "Iteration 300: Loss = 0.3805\n",
            "Iteration 400: Loss = 0.3358\n",
            "Iteration 500: Loss = 0.3021\n",
            "Iteration 600: Loss = 0.2758\n",
            "Iteration 700: Loss = 0.2547\n",
            "Iteration 800: Loss = 0.2373\n",
            "Iteration 900: Loss = 0.2227\n",
            "Optimal parameters: [-5.96125271  1.77316577]\n"
          ]
        }
      ]
    },
    {
      "cell_type": "markdown",
      "source": [
        "**Explanation:**\n",
        "\n",
        "The gradient descent algorithm iteratively updates the model parameters (theta) by subtracting the gradient of the loss function. Over many iterations, the parameters converge to the values that minimize the loss.\n",
        "\n",
        "---\n",
        "\n",
        "**Example 4: Stochastic Gradient Descent (SGD)**\n",
        "\n",
        "In stochastic gradient descent (SGD), we update the parameters using a randomly selected data point at each iteration, rather than using the entire dataset as in batch gradient descent. The update rule for SGD is:\n",
        "\n",
        "\\\n",
        "\\begin{aligned}\n",
        "x_{k+1} = x_k + \\beta \\left( b_I - \\sigma(\\alpha_I^T x_k) \\right) \\alpha_I\n",
        "\\end{aligned}"
      ],
      "metadata": {
        "id": "EwjFnprAE1Wb"
      }
    },
    {
      "cell_type": "code",
      "source": [
        "# Define the stochastic gradient descent algorithm\n",
        "def stochastic_gradient_descent(X, y, theta, learning_rate, num_iterations):\n",
        "    for i in range(num_iterations):\n",
        "        idx = np.random.randint(0, len(y))  # Randomly pick a data point\n",
        "        X_i = X[idx, :].reshape(1, -1)\n",
        "        y_i = y[idx].reshape(-1)\n",
        "\n",
        "        grad = gradient(X_i, y_i, theta)\n",
        "        theta -= learning_rate * grad\n",
        "\n",
        "        # Compute and print loss every 100 iterations\n",
        "        if i % 100 == 0:\n",
        "            loss = cross_entropy_loss(X, y, theta)\n",
        "            print(f\"Iteration {i}: Loss = {loss:.4f}\")\n",
        "\n",
        "    return theta\n",
        "\n",
        "# Perform stochastic gradient descent\n",
        "theta_optimal_sgd = stochastic_gradient_descent(X, y, theta, learning_rate, num_iterations)\n",
        "print(\"Optimal parameters (SGD):\", theta_optimal_sgd)"
      ],
      "metadata": {
        "colab": {
          "base_uri": "https://localhost:8080/"
        },
        "id": "zBOJJzpuE-Tz",
        "outputId": "7bda3649-50cf-4fd6-a25b-5801f11a2b23"
      },
      "execution_count": 4,
      "outputs": [
        {
          "output_type": "stream",
          "name": "stdout",
          "text": [
            "Iteration 0: Loss = 0.2109\n",
            "Iteration 100: Loss = 0.2021\n",
            "Iteration 200: Loss = 0.1891\n",
            "Iteration 300: Loss = 0.1844\n",
            "Iteration 400: Loss = 0.2022\n",
            "Iteration 500: Loss = 0.1719\n",
            "Iteration 600: Loss = 0.1959\n",
            "Iteration 700: Loss = 0.1534\n",
            "Iteration 800: Loss = 0.1499\n",
            "Iteration 900: Loss = 0.1499\n",
            "Optimal parameters (SGD): [-8.64296035  2.38166682]\n"
          ]
        }
      ]
    },
    {
      "cell_type": "markdown",
      "source": [
        "**Explanation:**\n",
        "\n",
        "SGD typically converges faster than batch gradient descent for large datasets because it updates the parameters more frequently, but it may produce noisier updates due to the random selection of data points."
      ],
      "metadata": {
        "id": "LTZY-KHLFDD6"
      }
    }
  ]
}