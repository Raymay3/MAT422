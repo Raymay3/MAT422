{
  "nbformat": 4,
  "nbformat_minor": 0,
  "metadata": {
    "colab": {
      "provenance": [],
      "toc_visible": true,
      "authorship_tag": "ABX9TyNXwkqbdUyXOa7Nl1xs+xm2",
      "include_colab_link": true
    },
    "kernelspec": {
      "name": "python3",
      "display_name": "Python 3"
    },
    "language_info": {
      "name": "python"
    }
  },
  "cells": [
    {
      "cell_type": "markdown",
      "metadata": {
        "id": "view-in-github",
        "colab_type": "text"
      },
      "source": [
        "<a href=\"https://colab.research.google.com/github/Raymay3/MAT422/blob/main/HW%203.7.ipynb\" target=\"_parent\"><img src=\"https://colab.research.google.com/assets/colab-badge.svg\" alt=\"Open In Colab\"/></a>"
      ]
    },
    {
      "cell_type": "markdown",
      "source": [
        "# **Section 3.7.1. Mathematical formulation**\n",
        "\n",
        "1. ***Setup and Overview***\n",
        "\n",
        "Introduce neural networks and provide an overview of the architecture, focusing on:\n",
        "- Layers and nodes\n",
        "- Weights, biases, and activation functions\n",
        "\n",
        "2. ***Single-Layer Neural Network Formulation***\n",
        "\n",
        "**Explanation:** Start by defining a simple single-layer neural network, following the formula:\n",
        "\n",
        "\\begin{aligned}\n",
        "\\hat{y} = \\sigma(w_1 a_1 + w_2 a_2 + b)\n",
        "\\end{aligned}\n",
        "\n",
        "where $\\sigma$ is an activation function like sigmoid or ReLU."
      ],
      "metadata": {
        "id": "eZDrzsOZu4sE"
      }
    },
    {
      "cell_type": "code",
      "source": [
        "import numpy as np\n",
        "\n",
        "# Input values\n",
        "x1, x2 = 0.5, -1.5  # Example inputs\n",
        "\n",
        "# Weights and bias\n",
        "w1, w2 = 0.8, -0.6  # Example weights\n",
        "b = 0.1             # Example bias\n",
        "\n",
        "# Define the activation function (e.g., Sigmoid)\n",
        "def sigmoid(z):\n",
        "    return 1 / (1 + np.exp(-z))\n",
        "\n",
        "# Compute the weighted sum and activation output\n",
        "z = w1 * x1 + w2 * x2 + b\n",
        "y_hat = sigmoid(z)\n",
        "\n",
        "print(\"Output (ŷ) =\", y_hat)"
      ],
      "metadata": {
        "colab": {
          "base_uri": "https://localhost:8080/"
        },
        "id": "U_n3_xctwvX8",
        "outputId": "c68d47cf-daa9-434e-a9b1-819702159adf"
      },
      "execution_count": 1,
      "outputs": [
        {
          "output_type": "stream",
          "name": "stdout",
          "text": [
            "Output (ŷ) = 0.8021838885585817\n"
          ]
        }
      ]
    },
    {
      "cell_type": "markdown",
      "source": [
        "3. ***Multi-Layer Neural Network (Forward Propagation)***\n",
        "\n",
        "**Explanation:** For a more complex network, implement forward propagation by calculating the activations layer by layer. Use matrix representation for layers, weights, and biases.\n",
        "\n",
        "Formula for forward propagation:\n",
        "\n",
        "\\begin{aligned}\n",
        "a^{(l)} = \\sigma(W^{(l)} \\cdot a^{(l-1)} + b^{(l)})\n",
        "\\end{aligned}"
      ],
      "metadata": {
        "id": "yppOGO-kw4nE"
      }
    },
    {
      "cell_type": "code",
      "source": [
        "# Initialize weights, biases, and input for a simple 2-layer neural network\n",
        "W1 = np.array([[0.2, -0.3], [0.4, 0.1]])\n",
        "b1 = np.array([0.1, -0.2])\n",
        "W2 = np.array([[0.5], [-0.5]])\n",
        "b2 = np.array([0.3])\n",
        "\n",
        "# Input layer (layer 0)\n",
        "a0 = np.array([x1, x2])\n",
        "\n",
        "# Layer 1 computation\n",
        "z1 = W1.dot(a0) + b1\n",
        "a1 = sigmoid(z1)\n",
        "\n",
        "# Layer 2 (Output layer) computation\n",
        "z2 = W2.T.dot(a1) + b2\n",
        "y_hat = sigmoid(z2)\n",
        "\n",
        "print(\"Final Output (ŷ) =\", y_hat)"
      ],
      "metadata": {
        "colab": {
          "base_uri": "https://localhost:8080/"
        },
        "id": "JN-rjOSExLX8",
        "outputId": "f3d53efa-21bb-41b3-94ae-aae3f8b92051"
      },
      "execution_count": 2,
      "outputs": [
        {
          "output_type": "stream",
          "name": "stdout",
          "text": [
            "Final Output (ŷ) = [0.59801959]\n"
          ]
        }
      ]
    },
    {
      "cell_type": "markdown",
      "source": [
        "4. ***Generalizing to Multi-Layer Networks***\n",
        "\n",
        "Use a loop for generalized forward propagation in neural networks with multiple layers. Here, use matrices $W$ and $b$ for weight and bias matrices across different layers."
      ],
      "metadata": {
        "id": "CWjBNozTxOH0"
      }
    },
    {
      "cell_type": "code",
      "source": [
        "# Define network parameters for each layer in dictionary form\n",
        "parameters = {\n",
        "    'W1': np.array([[0.2, -0.3], [0.4, 0.1]]),\n",
        "    'b1': np.array([0.1, -0.2]),\n",
        "    'W2': np.array([[0.5, -0.5]]),\n",
        "    'b2': np.array([0.3])\n",
        "}\n",
        "\n",
        "# Forward propagation function\n",
        "def forward_propagation(X, parameters):\n",
        "    # Reshape X to a column vector\n",
        "    A = X.reshape(-1, 1)\n",
        "    activations = [A]\n",
        "    L = len(parameters) // 2  # Number of layers\n",
        "\n",
        "    for l in range(1, L + 1):\n",
        "        W = parameters['W' + str(l)]\n",
        "        b = parameters['b' + str(l)].reshape(-1, 1)  # Reshape bias as a column vector\n",
        "        Z = np.dot(W, A) + b\n",
        "        A = sigmoid(Z)\n",
        "        activations.append(A)\n",
        "\n",
        "    return activations[-1]\n",
        "\n",
        "# Test with input\n",
        "X = np.array([x1, x2])  # Make sure x1 and x2 are defined\n",
        "y_hat = forward_propagation(X, parameters)\n",
        "print(\"Network Output (ŷ):\", y_hat)"
      ],
      "metadata": {
        "colab": {
          "base_uri": "https://localhost:8080/"
        },
        "id": "doYuLDMAxuwa",
        "outputId": "f1422a3b-7146-4b66-bf9c-293e68d498f9"
      },
      "execution_count": 4,
      "outputs": [
        {
          "output_type": "stream",
          "name": "stdout",
          "text": [
            "Network Output (ŷ): [[0.59801959]]\n"
          ]
        }
      ]
    },
    {
      "cell_type": "markdown",
      "source": [
        "5. ***Summary and Explanation of Mathematical Process***\n",
        "\n",
        "- **How forward propagation works**: Summing the weighted inputs plus bias and applying the activation function.\n",
        "- **Matrix representation advantages**: Efficient for large networks, and supports vectorized operations in deep learning frameworks."
      ],
      "metadata": {
        "id": "m9jlw9J0x5z7"
      }
    },
    {
      "cell_type": "markdown",
      "source": [
        "# **Section 3.7.2. Activation functions**\n",
        "\n",
        "1. **Activation Function Definitions**:\n",
        "   - Step Function\n",
        "   - ReLU (Rectified Linear Unit) Function\n",
        "   - Sigmoid (Logistic) Function\n",
        "   - Softmax Function\n",
        "\n",
        "2. **Implementation in Python**:\n",
        "   - Define each function.\n",
        "   - Show the mathematical formulation.\n",
        "   - Provide example code snippets for each function.\n",
        "   - Plot the outputs to visually compare how they transform input data.\n",
        "\n",
        "Here’s the code with explanations for each activation function."
      ],
      "metadata": {
        "id": "vSGflYo9zb7C"
      }
    },
    {
      "cell_type": "code",
      "source": [
        "# Import required libraries\n",
        "import numpy as np\n",
        "import matplotlib.pyplot as plt\n",
        "\n",
        "# Step 1: Define each activation function\n",
        "\n",
        "# 3.7.2.1 Step Function\n",
        "def step_function(x):\n",
        "    return np.where(x >= 0, 1, 0)\n",
        "\n",
        "# 3.7.2.2 ReLU Function\n",
        "def relu(x):\n",
        "    return np.maximum(0, x)\n",
        "\n",
        "# 3.7.2.3 Sigmoid Function\n",
        "def sigmoid(x):\n",
        "    return 1 / (1 + np.exp(-x))\n",
        "\n",
        "# 3.7.2.4 Softmax Function\n",
        "def softmax(x):\n",
        "    exps = np.exp(x - np.max(x))  # Subtracting max for numerical stability\n",
        "    return exps / np.sum(exps, axis=0)\n",
        "\n",
        "# Step 2: Plot each function to observe its behavior\n",
        "\n",
        "# Generate an array of values from -10 to 10 to serve as input\n",
        "x = np.linspace(-10, 10, 400)\n",
        "\n",
        "# Calculate outputs for each function\n",
        "step_output = step_function(x)\n",
        "relu_output = relu(x)\n",
        "sigmoid_output = sigmoid(x)\n",
        "\n",
        "# For Softmax, we typically use an input vector instead of a range of values\n",
        "x_softmax = np.array([1.0, 2.0, 3.0, 4.0])\n",
        "softmax_output = softmax(x_softmax)\n",
        "\n",
        "# Step 3: Plot the functions\n",
        "fig, axs = plt.subplots(2, 2, figsize=(12, 10))\n",
        "fig.suptitle(\"Activation Functions\", fontsize=16)\n",
        "\n",
        "# Step Function Plot\n",
        "axs[0, 0].plot(x, step_output, color='blue')\n",
        "axs[0, 0].set_title(\"Step Function\")\n",
        "axs[0, 0].set_xlabel(\"x\")\n",
        "axs[0, 0].set_ylabel(\"σ(x)\")\n",
        "\n",
        "# ReLU Function Plot\n",
        "axs[0, 1].plot(x, relu_output, color='green')\n",
        "axs[0, 1].set_title(\"ReLU Function\")\n",
        "axs[0, 1].set_xlabel(\"x\")\n",
        "axs[0, 1].set_ylabel(\"σ(x)\")\n",
        "\n",
        "# Sigmoid Function Plot\n",
        "axs[1, 0].plot(x, sigmoid_output, color='red')\n",
        "axs[1, 0].set_title(\"Sigmoid Function\")\n",
        "axs[1, 0].set_xlabel(\"x\")\n",
        "axs[1, 0].set_ylabel(\"σ(x)\")\n",
        "\n",
        "# Softmax Function Plot\n",
        "axs[1, 1].bar(range(len(x_softmax)), softmax_output, color='purple')\n",
        "axs[1, 1].set_title(\"Softmax Function (Discrete Example)\")\n",
        "axs[1, 1].set_xlabel(\"Index\")\n",
        "axs[1, 1].set_ylabel(\"Probability\")\n",
        "\n",
        "plt.tight_layout(rect=[0, 0, 1, 0.96])\n",
        "plt.show()\n",
        "\n",
        "# Explanation for each activation function\n",
        "print(\"Activation Function Outputs:\\n\")\n",
        "print(f\"Softmax Input Vector: {x_softmax}\")\n",
        "print(f\"Softmax Output (Probabilities): {softmax_output}\")"
      ],
      "metadata": {
        "colab": {
          "base_uri": "https://localhost:8080/",
          "height": 1000
        },
        "id": "ou_9aOqN1K7K",
        "outputId": "f3528329-6bc5-4acc-fe9e-b7aa998240f6"
      },
      "execution_count": 5,
      "outputs": [
        {
          "output_type": "display_data",
          "data": {
            "text/plain": [
              "<Figure size 1200x1000 with 4 Axes>"
            ],
            "image/png": "[encoded data removed]"
          },
          "metadata": {}
        },
        {
          "output_type": "stream",
          "name": "stdout",
          "text": [
            "Activation Function Outputs:\n",
            "\n",
            "Softmax Input Vector: [1. 2. 3. 4.]\n",
            "Softmax Output (Probabilities): [0.0320586  0.08714432 0.23688282 0.64391426]\n"
          ]
        }
      ]
    },
    {
      "cell_type": "markdown",
      "source": [
        "***Explanation of Each Activation Function***\n",
        "\n",
        "1. **Step Function**:\n",
        "   - Formula: $\\sigma(x) = \\begin{cases} 0, & x < 0 \\\\ 1, & x \\geq 0 \\end{cases}$\n",
        "   - Explanation: Useful in binary classification scenarios as it returns either 0 or 1. It is a non-differentiable function and thus rarely used in deep learning applications where gradients are needed.\n",
        "\n",
        "2. **ReLU Function**:\n",
        "   - Formula: $\\sigma(x) = \\max(0, x)$\n",
        "   - Explanation: This activation allows only positive values to pass through, making it effective in deep neural networks for faster convergence due to sparsity. It is widely used due to its simplicity and effectiveness in gradient-based optimizations.\n",
        "\n",
        "3. **Sigmoid Function**:\n",
        "   - Formula: $\\sigma(x) = \\frac{1}{1 + e^{-x}}$\n",
        "   - Explanation: This function squashes input values to a range between 0 and 1, making it suitable for probability-based outputs. However, it can lead to vanishing gradients when values approach the limits of 0 and 1.\n",
        "\n",
        "4. **Softmax Function**:\n",
        "   - Formula: $\\sigma(x_i) = \\frac{e^{x_i}}{\\sum_{j=1}^K e^{x_j}}$\n",
        "   - Explanation: Often used in the output layer for multi-class classification problems, this function transforms the input vector into a probability distribution over the classes.\n",
        "\n",
        "Each plot provides a visualization of how the functions handle positive and negative values and their impact on neural network layers. The code demonstrates each function’s effect on a range of input values, highlighting why each activation is chosen for specific types of neural network tasks."
      ],
      "metadata": {
        "id": "M1LCbMlP1iXK"
      }
    },
    {
      "cell_type": "markdown",
      "source": [
        "# **Section 3.7.3. Cost function**\n",
        "\n",
        "1. **Mean Squared Error (MSE)** – Suitable for regression tasks.\n",
        "2. **Binary Cross-Entropy Loss** – Commonly used for binary classification tasks.\n",
        "\n",
        "For each cost function, we'll define it mathematically, create the corresponding Python function, and apply it to sample data for a practical example."
      ],
      "metadata": {
        "id": "NwSOJ12j3AmA"
      }
    },
    {
      "cell_type": "code",
      "source": [
        "# Import required libraries\n",
        "import numpy as np\n",
        "import matplotlib.pyplot as plt\n",
        "\n",
        "# 1. Define the Mean Squared Error (MSE) cost function for regression\n",
        "def mean_squared_error(y_true, y_pred):\n",
        "    \"\"\"\n",
        "    Computes the Mean Squared Error (MSE) between actual and predicted values.\n",
        "    Args:\n",
        "    y_true -- numpy array of true values\n",
        "    y_pred -- numpy array of predicted values\n",
        "    Returns:\n",
        "    MSE cost\n",
        "    \"\"\"\n",
        "    return 0.5 * np.mean((y_pred - y_true) ** 2)\n",
        "\n",
        "# Example Data for Regression\n",
        "y_true_reg = np.array([3, -0.5, 2, 7])  # True values\n",
        "y_pred_reg = np.array([2.5, 0.0, 2, 8])  # Predicted values\n",
        "\n",
        "# Calculate MSE Cost\n",
        "mse_cost = mean_squared_error(y_true_reg, y_pred_reg)\n",
        "print(\"Mean Squared Error (MSE) Cost:\", mse_cost)\n",
        "\n",
        "# 2. Define Binary Cross-Entropy Loss for binary classification\n",
        "def binary_cross_entropy(y_true, y_pred):\n",
        "    \"\"\"\n",
        "    Computes the Binary Cross-Entropy loss between actual and predicted values.\n",
        "    Args:\n",
        "    y_true -- numpy array of true binary values (0 or 1)\n",
        "    y_pred -- numpy array of predicted probabilities (between 0 and 1)\n",
        "    Returns:\n",
        "    Binary Cross-Entropy cost\n",
        "    \"\"\"\n",
        "    y_pred = np.clip(y_pred, 1e-15, 1 - 1e-15)  # Avoid log(0) by clipping\n",
        "    return -np.mean(y_true * np.log(y_pred) + (1 - y_true) * np.log(1 - y_pred))\n",
        "\n",
        "# Example Data for Binary Classification\n",
        "y_true_class = np.array([1, 0, 1, 1])  # True values (0 or 1)\n",
        "y_pred_class = np.array([0.9, 0.2, 0.8, 0.6])  # Predicted probabilities\n",
        "\n",
        "# Calculate Binary Cross-Entropy Cost\n",
        "bce_cost = binary_cross_entropy(y_true_class, y_pred_class)\n",
        "print(\"Binary Cross-Entropy Cost:\", bce_cost)\n",
        "\n",
        "# Step 3: Visualize the Cost Functions\n",
        "# Plotting Binary Cross-Entropy loss for different prediction scenarios\n",
        "\n",
        "# Define range of prediction values for demonstration\n",
        "epsilon = 1e-15  # Small value to avoid log(0)\n",
        "y_pred_values = np.linspace(0 + epsilon, 1 - epsilon, 100)\n",
        "\n",
        "# Calculate Binary Cross-Entropy for fixed true value of 1 and 0\n",
        "bce_loss_values_1 = [-np.log(y_pred) for y_pred in y_pred_values]\n",
        "bce_loss_values_0 = [-np.log(1 - y_pred) for y_pred in y_pred_values]\n",
        "\n",
        "# Plot Binary Cross-Entropy loss for y_true = 1 and y_true = 0\n",
        "plt.figure(figsize=(10, 6))\n",
        "plt.plot(y_pred_values, bce_loss_values_1, label=\"BCE Loss for y_true = 1\", color='blue')\n",
        "plt.plot(y_pred_values, bce_loss_values_0, label=\"BCE Loss for y_true = 0\", color='red')\n",
        "plt.xlabel(\"Predicted Probability (ŷ)\")\n",
        "plt.ylabel(\"Binary Cross-Entropy Loss\")\n",
        "plt.title(\"Binary Cross-Entropy Loss for y_true = 1 and y_true = 0\")\n",
        "plt.legend()\n",
        "plt.show()"
      ],
      "metadata": {
        "colab": {
          "base_uri": "https://localhost:8080/",
          "height": 600
        },
        "id": "EGFEF2nh3Yqx",
        "outputId": "54c4bbb9-ac56-4615-ea00-100e8a9f4838"
      },
      "execution_count": 9,
      "outputs": [
        {
          "output_type": "stream",
          "name": "stdout",
          "text": [
            "Mean Squared Error (MSE) Cost: 0.1875\n",
            "Binary Cross-Entropy Cost: 0.2656183105130591\n"
          ]
        },
        {
          "output_type": "display_data",
          "data": {
            "text/plain": [
              "<Figure size 1000x600 with 1 Axes>"
            ],
            "image/png": "[encoded data removed]"
          },
          "metadata": {}
        }
      ]
    },
    {
      "cell_type": "markdown",
      "source": [
        "***Explanation of Each Cost Function***\n",
        "\n",
        "1. **Mean Squared Error (MSE)**:\n",
        "   - Formula: $J = \\frac{1}{2N} \\sum_{n=1}^{N} \\sum_{k=1}^{K} \\left( y^{(n)}_k - \\hat{y}^{(n)}_k \\right)^2$\n",
        "   - Explanation: This function computes the average of squared differences between predicted values and true values. MSE penalizes larger errors more heavily, making it suitable for regression tasks.\n",
        "\n",
        "2. **Binary Cross-Entropy Loss**:\n",
        "   - Formula: $J = -\\sum_{n=1}^{N} \\left[ y^{(n)} \\ln \\hat{y}^{(n)} + (1 - y^{(n)}) \\ln (1 - \\hat{y}^{(n)}) \\right]$\n",
        "   - Explanation: Binary Cross-Entropy Loss measures the difference between the actual and predicted probabilities, penalizing incorrect predictions more strongly when probabilities are close to 0 or 1. This cost function is commonly used in binary classification.\n",
        "\n",
        "Each cost function example is calculated using simple arrays of true and predicted values, and the output is visualized for the Binary Cross-Entropy function to demonstrate how it changes with different predicted probabilities."
      ],
      "metadata": {
        "id": "FgdSXxaL3yoo"
      }
    },
    {
      "cell_type": "markdown",
      "source": [
        "# **Section 3.7.4. Backpropagation**\n",
        "\n",
        "To demonstrate backpropagation, we will implement a small neural network in Python and calculate the gradients of the cost function with respect to the weights and biases using backpropagation. In this example, we’ll use the Mean Squared Error (MSE) as the cost function and Sigmoid as the activation function. Here is an outline of the example we'll cover:\n",
        "\n",
        "1. **Forward Pass**: Calculate the activations for each layer.\n",
        "2. **Backward Pass**: Compute the gradients for weights and biases using backpropagation.\n",
        "3. **Update Parameters**: Show how the gradients are used to update weights and biases to minimize the cost function.\n",
        "\n",
        "Here is the Python code:"
      ],
      "metadata": {
        "id": "gEfJnYM6q1TV"
      }
    },
    {
      "cell_type": "code",
      "source": [
        "import numpy as np\n",
        "\n",
        "# Sigmoid Activation Function\n",
        "def sigmoid(z):\n",
        "    return 1 / (1 + np.exp(-z))\n",
        "\n",
        "# Derivative of Sigmoid\n",
        "def sigmoid_derivative(z):\n",
        "    return sigmoid(z) * (1 - sigmoid(z))\n",
        "\n",
        "# Mean Squared Error Cost Function\n",
        "def mean_squared_error(y_true, y_pred):\n",
        "    return 0.5 * np.mean((y_pred - y_true) ** 2)\n",
        "\n",
        "# Forward Propagation Function\n",
        "def forward_propagation(X, parameters):\n",
        "    W1, b1, W2, b2 = parameters[\"W1\"], parameters[\"b1\"], parameters[\"W2\"], parameters[\"b2\"]\n",
        "    Z1 = np.dot(W1, X) + b1\n",
        "    A1 = sigmoid(Z1)\n",
        "    Z2 = np.dot(W2, A1) + b2\n",
        "    A2 = sigmoid(Z2)\n",
        "    cache = {\"Z1\": Z1, \"A1\": A1, \"Z2\": Z2, \"A2\": A2}\n",
        "    return A2, cache\n",
        "\n",
        "# Backward Propagation Function\n",
        "def backward_propagation(X, y_true, parameters, cache):\n",
        "    m = X.shape[1]  # number of examples\n",
        "\n",
        "    W1, b1, W2, b2 = parameters[\"W1\"], parameters[\"b1\"], parameters[\"W2\"], parameters[\"b2\"]\n",
        "    A1, A2 = cache[\"A1\"], cache[\"A2\"]\n",
        "\n",
        "    # Gradient of the cost with respect to A2\n",
        "    dA2 = A2 - y_true\n",
        "\n",
        "    # Backpropagation for output layer (layer 2)\n",
        "    dZ2 = dA2 * sigmoid_derivative(cache[\"Z2\"])\n",
        "    dW2 = (1 / m) * np.dot(dZ2, A1.T)\n",
        "    db2 = (1 / m) * np.sum(dZ2, axis=1, keepdims=True)\n",
        "\n",
        "    # Backpropagation for hidden layer (layer 1)\n",
        "    dA1 = np.dot(W2.T, dZ2)\n",
        "    dZ1 = dA1 * sigmoid_derivative(cache[\"Z1\"])\n",
        "    dW1 = (1 / m) * np.dot(dZ1, X.T)\n",
        "    db1 = (1 / m) * np.sum(dZ1, axis=1, keepdims=True)\n",
        "\n",
        "    gradients = {\"dW1\": dW1, \"db1\": db1, \"dW2\": dW2, \"db2\": db2}\n",
        "    return gradients\n",
        "\n",
        "# Parameters Initialization\n",
        "np.random.seed(1)\n",
        "parameters = {\n",
        "    \"W1\": np.random.randn(2, 2) * 0.01,\n",
        "    \"b1\": np.zeros((2, 1)),\n",
        "    \"W2\": np.random.randn(1, 2) * 0.01,\n",
        "    \"b2\": np.zeros((1, 1)),\n",
        "}\n",
        "\n",
        "# Input and output data\n",
        "X = np.array([[0.05], [0.1]])  # Input data (2 features, 1 sample)\n",
        "y_true = np.array([[1]])       # Target output\n",
        "\n",
        "# Learning Rate\n",
        "learning_rate = 0.1\n",
        "\n",
        "# Training\n",
        "for i in range(1000):\n",
        "    # Forward Propagation\n",
        "    y_pred, cache = forward_propagation(X, parameters)\n",
        "\n",
        "    # Compute Cost\n",
        "    cost = mean_squared_error(y_true, y_pred)\n",
        "\n",
        "    # Backward Propagation\n",
        "    gradients = backward_propagation(X, y_true, parameters, cache)\n",
        "\n",
        "    # Update Parameters\n",
        "    parameters[\"W1\"] -= learning_rate * gradients[\"dW1\"]\n",
        "    parameters[\"b1\"] -= learning_rate * gradients[\"db1\"]\n",
        "    parameters[\"W2\"] -= learning_rate * gradients[\"dW2\"]\n",
        "    parameters[\"b2\"] -= learning_rate * gradients[\"db2\"]\n",
        "\n",
        "    # Print cost every 100 iterations\n",
        "    if i % 100 == 0:\n",
        "        print(f\"Iteration {i}, Cost: {cost}\")\n",
        "\n",
        "# Final prediction after training\n",
        "print(\"Final prediction after training:\", y_pred)"
      ],
      "metadata": {
        "colab": {
          "base_uri": "https://localhost:8080/"
        },
        "id": "tB37d3lTwTcy",
        "outputId": "1a0815f0-9455-4d79-c399-5e3804df393e"
      },
      "execution_count": 1,
      "outputs": [
        {
          "output_type": "stream",
          "name": "stdout",
          "text": [
            "Iteration 0, Cost: 0.12589816986997068\n",
            "Iteration 100, Cost: 0.02877249746205622\n",
            "Iteration 200, Cost: 0.013298313679564132\n",
            "Iteration 300, Cost: 0.008207174777334207\n",
            "Iteration 400, Cost: 0.005808923669899432\n",
            "Iteration 500, Cost: 0.004445288404361902\n",
            "Iteration 600, Cost: 0.0035760879856556503\n",
            "Iteration 700, Cost: 0.0029780645760324534\n",
            "Iteration 800, Cost: 0.0025435458271480305\n",
            "Iteration 900, Cost: 0.0022146636468376177\n",
            "Final prediction after training: [[0.93738999]]\n"
          ]
        }
      ]
    },
    {
      "cell_type": "markdown",
      "source": [
        "***Explanation:***\n",
        "\n",
        "1. **Initialization**: We initialize weights (`W1`, `W2`) and biases (`b1`, `b2`) with small random values and zeros, respectively.\n",
        "2. **Forward Propagation**:\n",
        "   - We calculate `Z1` and `A1` for the first layer and `Z2` and `A2` for the output layer using the sigmoid activation.\n",
        "3. **Backward Propagation**:\n",
        "   - We compute the gradients of the cost function with respect to each weight and bias using the chain rule.\n",
        "   - The gradients `dW1`, `db1`, `dW2`, and `db2` are obtained using the derivative of the sigmoid and MSE cost function.\n",
        "4. **Update Parameters**: Using the gradients, we update the weights and biases to minimize the cost function.\n",
        "\n",
        "***Output:***\n",
        "\n",
        "The code will print the cost at every 100 iterations to demonstrate the convergence of the model and finally display the prediction after training. Each iteration represents a step in minimizing the error through backpropagation, effectively training the neural network."
      ],
      "metadata": {
        "id": "N_VUOOLvwcRB"
      }
    },
    {
      "cell_type": "markdown",
      "source": [
        "# **Section 3.7.5. Backpropagation algorithm**\n",
        "\n",
        "To demonstrate the backpropagation algorithm as described, we will create a simple neural network that uses stochastic gradient descent (SGD) to update its weights and biases. We’ll illustrate the complete process with explanations on initializing weights and biases, forward and backward propagation, calculating gradients, and updating weights and biases iteratively until convergence.\n",
        "\n",
        "Here’s a Python implementation with explanatory comments:"
      ],
      "metadata": {
        "id": "Fu5cO_vDxhO1"
      }
    },
    {
      "cell_type": "code",
      "source": [
        "import numpy as np\n",
        "\n",
        "# Sigmoid Activation Function\n",
        "def sigmoid(z):\n",
        "    return 1 / (1 + np.exp(-z))\n",
        "\n",
        "# Derivative of Sigmoid\n",
        "def sigmoid_derivative(z):\n",
        "    return sigmoid(z) * (1 - sigmoid(z))\n",
        "\n",
        "# Quadratic Cost Function (Mean Squared Error)\n",
        "def quadratic_cost(y_true, y_pred):\n",
        "    return 0.5 * np.mean((y_pred - y_true) ** 2)\n",
        "\n",
        "# Forward Propagation Function\n",
        "def forward_propagation(X, parameters):\n",
        "    W1, b1, W2, b2 = parameters[\"W1\"], parameters[\"b1\"], parameters[\"W2\"], parameters[\"b2\"]\n",
        "    Z1 = np.dot(W1, X) + b1\n",
        "    A1 = sigmoid(Z1)\n",
        "    Z2 = np.dot(W2, A1) + b2\n",
        "    A2 = sigmoid(Z2)\n",
        "    cache = {\"Z1\": Z1, \"A1\": A1, \"Z2\": Z2, \"A2\": A2}\n",
        "    return A2, cache\n",
        "\n",
        "# Backward Propagation Function\n",
        "def backward_propagation(X, y_true, parameters, cache):\n",
        "    m = X.shape[1]  # number of examples\n",
        "\n",
        "    W1, b1, W2, b2 = parameters[\"W1\"], parameters[\"b1\"], parameters[\"W2\"], parameters[\"b2\"]\n",
        "    A1, A2 = cache[\"A1\"], cache[\"A2\"]\n",
        "\n",
        "    # Output layer error term (delta for last layer)\n",
        "    delta_L = (A2 - y_true) * sigmoid_derivative(cache[\"Z2\"])\n",
        "\n",
        "    # Gradients for weights and biases of the output layer\n",
        "    dW2 = (1 / m) * np.dot(delta_L, A1.T)\n",
        "    db2 = (1 / m) * np.sum(delta_L, axis=1, keepdims=True)\n",
        "\n",
        "    # Hidden layer error term\n",
        "    delta_1 = np.dot(W2.T, delta_L) * sigmoid_derivative(cache[\"Z1\"])\n",
        "\n",
        "    # Gradients for weights and biases of the hidden layer\n",
        "    dW1 = (1 / m) * np.dot(delta_1, X.T)\n",
        "    db1 = (1 / m) * np.sum(delta_1, axis=1, keepdims=True)\n",
        "\n",
        "    gradients = {\"dW1\": dW1, \"db1\": db1, \"dW2\": dW2, \"db2\": db2}\n",
        "    return gradients\n",
        "\n",
        "# Parameters Initialization\n",
        "np.random.seed(1)\n",
        "parameters = {\n",
        "    \"W1\": np.random.randn(2, 2) * 0.01,\n",
        "    \"b1\": np.zeros((2, 1)),\n",
        "    \"W2\": np.random.randn(1, 2) * 0.01,\n",
        "    \"b2\": np.zeros((1, 1)),\n",
        "}\n",
        "\n",
        "# Input and output data\n",
        "X = np.array([[0.05], [0.1]])  # Input data (2 features, 1 sample)\n",
        "y_true = np.array([[1]])       # Target output\n",
        "\n",
        "# Learning Rate\n",
        "learning_rate = 0.1\n",
        "\n",
        "# Training Loop\n",
        "for i in range(1000):\n",
        "    # Forward Propagation\n",
        "    y_pred, cache = forward_propagation(X, parameters)\n",
        "\n",
        "    # Compute Cost\n",
        "    cost = quadratic_cost(y_true, y_pred)\n",
        "\n",
        "    # Backward Propagation\n",
        "    gradients = backward_propagation(X, y_true, parameters, cache)\n",
        "\n",
        "    # Update Parameters (Stochastic Gradient Descent Step)\n",
        "    parameters[\"W1\"] -= learning_rate * gradients[\"dW1\"]\n",
        "    parameters[\"b1\"] -= learning_rate * gradients[\"db1\"]\n",
        "    parameters[\"W2\"] -= learning_rate * gradients[\"dW2\"]\n",
        "    parameters[\"b2\"] -= learning_rate * gradients[\"db2\"]\n",
        "\n",
        "    # Print cost every 100 iterations\n",
        "    if i % 100 == 0:\n",
        "        print(f\"Iteration {i}, Cost: {cost}\")\n",
        "\n",
        "# Final prediction after training\n",
        "print(\"Final prediction after training:\", y_pred)"
      ],
      "metadata": {
        "colab": {
          "base_uri": "https://localhost:8080/"
        },
        "id": "AfIyryDKx2Tx",
        "outputId": "cce68dda-c648-4aae-fbd6-535ad2aff782"
      },
      "execution_count": 2,
      "outputs": [
        {
          "output_type": "stream",
          "name": "stdout",
          "text": [
            "Iteration 0, Cost: 0.12589816986997068\n",
            "Iteration 100, Cost: 0.02877249746205622\n",
            "Iteration 200, Cost: 0.013298313679564132\n",
            "Iteration 300, Cost: 0.008207174777334207\n",
            "Iteration 400, Cost: 0.005808923669899432\n",
            "Iteration 500, Cost: 0.004445288404361902\n",
            "Iteration 600, Cost: 0.0035760879856556503\n",
            "Iteration 700, Cost: 0.0029780645760324534\n",
            "Iteration 800, Cost: 0.0025435458271480305\n",
            "Iteration 900, Cost: 0.0022146636468376177\n",
            "Final prediction after training: [[0.93738999]]\n"
          ]
        }
      ]
    },
    {
      "cell_type": "markdown",
      "source": [
        "***Explanation of Code:***\n",
        "\n",
        "1. **Initialization**:\n",
        "   - Weights and biases are initialized with small random values to avoid symmetry in the network during learning.\n",
        "   \n",
        "2. **Forward Propagation**:\n",
        "   - The function calculates the activations in the hidden and output layers using the sigmoid function.\n",
        "   \n",
        "3. **Cost Function**:\n",
        "   - We use the quadratic cost function here to calculate the error between predictions and the target output.\n",
        "\n",
        "4. **Backward Propagation**:\n",
        "   - We calculate the error term $\\delta$ for the output layer as a function of the difference between predicted and true values, multiplied by the derivative of the sigmoid function.\n",
        "   - This $\\delta$ value is then propagated backward to the hidden layer, allowing us to calculate the gradients for the hidden weights and biases.\n",
        "   \n",
        "5. **Gradient Descent Step**:\n",
        "   - We update weights and biases using the gradients and a learning rate, allowing the network to minimize the cost function iteratively.\n",
        "   \n",
        "6. **Training Loop**:\n",
        "   - The network trains by repeating forward and backward propagation until convergence. The cost is printed every 100 iterations for progress tracking.\n",
        "\n",
        "***Expected Output:***\n",
        "\n",
        "The final output shows the prediction after training, reflecting how close the network's predictions are to the target after applying backpropagation over multiple iterations. The training loop minimizes the cost function, demonstrating convergence as the cost decreases.\n",
        "\n",
        "This example illustrates how backpropagation works by computing gradients layer by layer and adjusting weights and biases accordingly."
      ],
      "metadata": {
        "id": "7Vtd-RVJyEnJ"
      }
    }
  ]
}