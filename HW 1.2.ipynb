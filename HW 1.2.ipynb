{
  "nbformat": 4,
  "nbformat_minor": 0,
  "metadata": {
    "colab": {
      "provenance": [],
      "toc_visible": true,
      "authorship_tag": "ABX9TyPCcRd+0DJPgBES7oLURtQ1",
      "include_colab_link": true
    },
    "kernelspec": {
      "name": "python3",
      "display_name": "Python 3"
    },
    "language_info": {
      "name": "python"
    }
  },
  "cells": [
    {
      "cell_type": "markdown",
      "metadata": {
        "id": "view-in-github",
        "colab_type": "text"
      },
      "source": [
        "<a href=\"https://colab.research.google.com/github/Raymay3/MAT422/blob/main/HW%201.2.ipynb\" target=\"_parent\"><img src=\"https://colab.research.google.com/assets/colab-badge.svg\" alt=\"Open In Colab\"/></a>"
      ]
    },
    {
      "cell_type": "markdown",
      "source": [
        "# **1.2.1 Linear Spaces**\n",
        "**1.2.1.1 Linear Combinations**\n",
        "\n",
        "A *linear combination* in linear algebra involves combining vectors using scalar multiplication and addition. Here is how to implement and visualize linear combinations and subspaces in Python:"
      ],
      "metadata": {
        "id": "Lw7ZXgrQAIo-"
      }
    },
    {
      "cell_type": "code",
      "source": [
        "import numpy as np\n",
        "\n",
        "# Example 1: Linear Combinations\n",
        "# Define two vectors in R^3\n",
        "w1 = np.array([1, 2, 3])\n",
        "w2 = np.array([4, 5, 6])\n",
        "\n",
        "# Define scalars\n",
        "alpha = 2\n",
        "beta = 3\n",
        "\n",
        "# Linear combination of w1 and w2\n",
        "linear_combination = alpha * w1 + beta * w2\n",
        "print(\"Linear Combination of alpha * w1 + beta * w2:\", linear_combination)\n",
        "\n",
        "# Example 2: Verify a Linear Subspace\n",
        "# Define a set of vectors in R^3\n",
        "u1 = np.array([1, 0, 0])\n",
        "u2 = np.array([0, 1, 0])\n",
        "u3 = np.array([0, 0, 1])\n",
        "\n",
        "# Check closure under vector addition and scalar multiplication\n",
        "# Vector addition\n",
        "u_sum = u1 + u2\n",
        "print(\"Sum of u1 and u2:\", u_sum)\n",
        "\n",
        "# Scalar multiplication\n",
        "scalar = 2\n",
        "u_scaled = scalar * u1\n",
        "print(\"Scalar multiplication of u1 by 2:\", u_scaled)\n",
        "\n",
        "# Verify that 0 is in the subspace\n",
        "zero_vector = np.array([0, 0, 0])\n",
        "print(\"Zero vector:\", zero_vector)"
      ],
      "metadata": {
        "colab": {
          "base_uri": "https://localhost:8080/"
        },
        "id": "YsNZ1bdYJRQV",
        "outputId": "e0353b55-99a9-4d7c-92ed-38dbfb4e56b4"
      },
      "execution_count": null,
      "outputs": [
        {
          "output_type": "stream",
          "name": "stdout",
          "text": [
            "Linear Combination of alpha * w1 + beta * w2: [14 19 24]\n",
            "Sum of u1 and u2: [1 1 0]\n",
            "Scalar multiplication of u1 by 2: [2 0 0]\n",
            "Zero vector: [0 0 0]\n"
          ]
        }
      ]
    },
    {
      "cell_type": "markdown",
      "source": [
        "# **1.2.2 Orthogonality**\n",
        "\n",
        "**1. Verify if a Set of Vectors Forms an Orthonormal Basis**\n",
        "\n",
        "An *orthonormal basis* of a vector space is a set of vectors that are all orthogonal to each other, and each has a norm of 1."
      ],
      "metadata": {
        "id": "t7en-YexKXw0"
      }
    },
    {
      "cell_type": "code",
      "source": [
        "import numpy as np\n",
        "\n",
        "# Define a set of vectors\n",
        "vectors = np.array([\n",
        "    [1/np.sqrt(2), 1/np.sqrt(2)],\n",
        "    [-1/np.sqrt(2), 1/np.sqrt(2)]\n",
        "])\n",
        "\n",
        "# Function to check if a set of vectors is orthonormal\n",
        "def is_orthonormal(vectors):\n",
        "    for i in range(len(vectors)):\n",
        "        for j in range(len(vectors)):\n",
        "            dot_product = np.dot(vectors[i], vectors[j])\n",
        "            if i == j:\n",
        "                if not np.isclose(dot_product, 1):\n",
        "                    return False\n",
        "            else:\n",
        "                if not np.isclose(dot_product, 0):\n",
        "                    return False\n",
        "    return True\n",
        "\n",
        "# Check if the vectors form an orthonormal set\n",
        "print(\"Orthonormal Basis Check:\", is_orthonormal(vectors))"
      ],
      "metadata": {
        "colab": {
          "base_uri": "https://localhost:8080/"
        },
        "id": "zk5TSCYvLciU",
        "outputId": "6b28eccb-27b2-4e74-8325-55432372288f"
      },
      "execution_count": null,
      "outputs": [
        {
          "output_type": "stream",
          "name": "stdout",
          "text": [
            "Orthonormal Basis Check: True\n"
          ]
        }
      ]
    },
    {
      "cell_type": "markdown",
      "source": [
        "**2. Pythagorean Theorem in Vector Spaces**\n",
        "\n",
        "This example demonstrates the *Pythagorean theorem* for orthogonal vectors."
      ],
      "metadata": {
        "id": "QEy3hPl5LkTs"
      }
    },
    {
      "cell_type": "code",
      "source": [
        "# Define two orthogonal vectors\n",
        "u = np.array([1, 0])\n",
        "v = np.array([0, 1])\n",
        "\n",
        "# Verify orthogonality and apply Pythagorean theorem\n",
        "def pythagorean_theorem(u, v):\n",
        "    if np.dot(u, v) == 0:\n",
        "        return np.linalg.norm(u + v)**2 == np.linalg.norm(u)**2 + np.linalg.norm(v)**2\n",
        "    else:\n",
        "        return False\n",
        "\n",
        "print(\"Pythagorean Theorem Verification:\", pythagorean_theorem(u, v))"
      ],
      "metadata": {
        "colab": {
          "base_uri": "https://localhost:8080/"
        },
        "id": "aXk2V3AbLoh8",
        "outputId": "dd73269e-f953-4b03-8a02-550841f29398"
      },
      "execution_count": null,
      "outputs": [
        {
          "output_type": "stream",
          "name": "stdout",
          "text": [
            "Pythagorean Theorem Verification: False\n"
          ]
        }
      ]
    },
    {
      "cell_type": "markdown",
      "source": [
        "**3. Cauchy–Schwarz Inequality**\n",
        "\n",
        "The *Cauchy–Schwarz inequality* states that for any vectors $u$ and $v$,\n",
        "\n",
        "| $u$ ⋅ $v$ | ≤ ||$u$|| ⋅ ||$v$||."
      ],
      "metadata": {
        "id": "lucRJ09ZMGfE"
      }
    },
    {
      "cell_type": "code",
      "source": [
        "import numpy as np  # Import the NumPy library and give it the alias 'np'\n",
        "\n",
        "# Define two arbitrary vectors\n",
        "u = np.array([1, 2, 3])\n",
        "v = np.array([4, 5, 6])\n",
        "\n",
        "# Verify Cauchy–Schwarz inequality\n",
        "def cauchy_schwarz(u, v):\n",
        "    dot_product = np.dot(u, v)\n",
        "    norm_u = np.linalg.norm(u)\n",
        "    norm_v = np.linalg.norm(v)\n",
        "    return abs(dot_product) <= norm_u * norm_v\n",
        "\n",
        "print(\"Cauchy–Schwarz Inequality Verification:\", cauchy_schwarz(u, v))"
      ],
      "metadata": {
        "colab": {
          "base_uri": "https://localhost:8080/"
        },
        "id": "WpWlyF5qMb8n",
        "outputId": "7d98d456-da1f-4242-f526-4c3f3ea5d783"
      },
      "execution_count": null,
      "outputs": [
        {
          "output_type": "stream",
          "name": "stdout",
          "text": [
            "Cauchy–Schwarz Inequality Verification: True\n"
          ]
        }
      ]
    },
    {
      "cell_type": "markdown",
      "source": [
        "**4. Orthonormal Basis Expansion**\n",
        "\n",
        "*Expand* a vector in terms of an *orthonormal basis*."
      ],
      "metadata": {
        "id": "lEVj0XwRtNyL"
      }
    },
    {
      "cell_type": "code",
      "source": [
        "# Orthonormal basis vectors\n",
        "q1 = np.array([1/np.sqrt(2), 1/np.sqrt(2)])\n",
        "q2 = np.array([-1/np.sqrt(2), 1/np.sqrt(2)])\n",
        "\n",
        "# Any vector u in the span of q1, q2\n",
        "u = np.array([1, 0])\n",
        "\n",
        "# Expansion of u in terms of q1, q2\n",
        "alpha1 = np.dot(u, q1)\n",
        "alpha2 = np.dot(u, q2)\n",
        "u_expanded = alpha1 * q1 + alpha2 * q2\n",
        "\n",
        "print(\"Original Vector:\", u)\n",
        "print(\"Expanded Vector:\", u_expanded)"
      ],
      "metadata": {
        "colab": {
          "base_uri": "https://localhost:8080/"
        },
        "id": "_YMo1ht5ttcp",
        "outputId": "5f9277d2-6f36-45b0-89d2-9eaab1ea76bc"
      },
      "execution_count": null,
      "outputs": [
        {
          "output_type": "stream",
          "name": "stdout",
          "text": [
            "Original Vector: [1 0]\n",
            "Expanded Vector: [1. 0.]\n"
          ]
        }
      ]
    },
    {
      "cell_type": "markdown",
      "source": [
        "**5. Best Approximation Theorem**\n",
        "\n",
        "Find the *best approximation* of a vector $v$ in a subspace $U$."
      ],
      "metadata": {
        "id": "8zD0fl2TuW_K"
      }
    },
    {
      "cell_type": "code",
      "source": [
        "# Define a vector v and an orthonormal basis of subspace U\n",
        "v = np.array([3, 4])\n",
        "q1 = np.array([1, 0])\n",
        "\n",
        "# Projection of v onto U\n",
        "v_star = np.dot(v, q1) * q1\n",
        "\n",
        "print(\"Vector v:\", v)\n",
        "print(\"Best approximation v* in U:\", v_star)"
      ],
      "metadata": {
        "colab": {
          "base_uri": "https://localhost:8080/"
        },
        "id": "L6oNMl8kuq05",
        "outputId": "070be7f4-531a-4403-cf18-eec8d464223a"
      },
      "execution_count": null,
      "outputs": [
        {
          "output_type": "stream",
          "name": "stdout",
          "text": [
            "Vector v: [3 4]\n",
            "Best approximation v* in U: [3 0]\n"
          ]
        }
      ]
    },
    {
      "cell_type": "markdown",
      "source": [
        "**6. Orthogonal Projection Matrix**\n",
        "\n",
        "Compute the *orthogonal projection matrix* $P$ = $QQ^T$ for a subspace and use it for projections."
      ],
      "metadata": {
        "id": "fPPMb5CXu99S"
      }
    },
    {
      "cell_type": "code",
      "source": [
        "# Define the orthonormal basis vectors as columns of matrix Q\n",
        "Q = np.array([[1/np.sqrt(2), -1/np.sqrt(2)],\n",
        "              [1/np.sqrt(2), 1/np.sqrt(2)]])\n",
        "\n",
        "# Projection matrix P\n",
        "P = Q @ Q.T\n",
        "\n",
        "# Project a vector onto the subspace defined by the columns of Q\n",
        "v = np.array([3, 4])\n",
        "projection_v = P @ v\n",
        "\n",
        "print(\"Projection matrix P:\\n\", P)\n",
        "print(\"Projection of v onto subspace U:\\n\", projection_v)"
      ],
      "metadata": {
        "colab": {
          "base_uri": "https://localhost:8080/"
        },
        "id": "HOfNVlGgvNOC",
        "outputId": "46c9039b-8a8c-41d2-c9ad-476f67414045"
      },
      "execution_count": null,
      "outputs": [
        {
          "output_type": "stream",
          "name": "stdout",
          "text": [
            "Projection matrix P:\n",
            " [[ 1.00000000e+00 -2.23711432e-17]\n",
            " [-2.23711432e-17  1.00000000e+00]]\n",
            "Projection of v onto subspace U:\n",
            " [3. 4.]\n"
          ]
        }
      ]
    },
    {
      "cell_type": "markdown",
      "source": [
        "# **1.2.3. Gram–Schmidt process**\n",
        "\n",
        "**1. Implementing the Gram-Schmidt Process**\n",
        "\n",
        "The *Gram-Schmidt process* takes a set of linearly independent vectors and generates an orthonormal set of vectors that span the same subspace. Let's implement this process step-by-step:"
      ],
      "metadata": {
        "id": "Qb5izlc9wsfZ"
      }
    },
    {
      "cell_type": "code",
      "source": [
        "import numpy as np\n",
        "\n",
        "def gram_schmidt(vectors):\n",
        "    \"\"\"\n",
        "    Apply the Gram-Schmidt process to a set of linearly independent vectors.\n",
        "\n",
        "    Parameters:\n",
        "    vectors (ndarray): An array where each row represents a vector.\n",
        "\n",
        "    Returns:\n",
        "    ndarray: An array where each row represents an orthonormal vector.\n",
        "    \"\"\"\n",
        "    # Number of vectors\n",
        "    n = vectors.shape[0]\n",
        "\n",
        "    # Initialize an empty array for orthonormal vectors\n",
        "    orthonormal_basis = np.zeros_like(vectors)\n",
        "\n",
        "    for i in range(n):\n",
        "        # Start with the current vector\n",
        "        vi = vectors[i]\n",
        "\n",
        "        # Subtract the projection of vi onto each of the previous orthonormal vectors\n",
        "        for j in range(i):\n",
        "            vj = orthonormal_basis[j]\n",
        "            projection = np.dot(vi, vj) * vj\n",
        "            vi = vi - projection\n",
        "\n",
        "        # Normalize the vector to make it orthonormal\n",
        "        norm = np.linalg.norm(vi)\n",
        "        if norm > 1e-10:  # Ensure the vector is not zero\n",
        "            orthonormal_basis[i] = vi / norm\n",
        "\n",
        "    return orthonormal_basis\n",
        "\n",
        "# Example usage of the Gram-Schmidt process\n",
        "# Define a set of linearly independent vectors\n",
        "a1 = np.array([1, 1, 0])\n",
        "a2 = np.array([1, 0, 1])\n",
        "a3 = np.array([0, 1, 1])\n",
        "\n",
        "# Stack them into a single matrix\n",
        "vectors = np.vstack([a1, a2, a3])\n",
        "\n",
        "# Apply the Gram-Schmidt process\n",
        "orthonormal_basis = gram_schmidt(vectors)\n",
        "\n",
        "print(\"Original Vectors:\")\n",
        "print(vectors)\n",
        "print(\"\\nOrthonormal Basis:\")\n",
        "print(orthonormal_basis)"
      ],
      "metadata": {
        "colab": {
          "base_uri": "https://localhost:8080/"
        },
        "id": "v1IZpzrwxdlx",
        "outputId": "3485e670-acd1-442e-f4b4-66c4524071cd"
      },
      "execution_count": null,
      "outputs": [
        {
          "output_type": "stream",
          "name": "stdout",
          "text": [
            "Original Vectors:\n",
            "[[1 1 0]\n",
            " [1 0 1]\n",
            " [0 1 1]]\n",
            "\n",
            "Orthonormal Basis:\n",
            "[[0 0 0]\n",
            " [0 0 0]\n",
            " [0 0 0]]\n"
          ]
        }
      ]
    },
    {
      "cell_type": "markdown",
      "source": [
        "**2. Verifying the Orthonormal Basis**\n",
        "\n",
        "We will verify that the resulting vectors are orthonormal:"
      ],
      "metadata": {
        "id": "_MxEgJXTxkVw"
      }
    },
    {
      "cell_type": "code",
      "source": [
        "def verify_orthonormality(basis):\n",
        "    \"\"\"\n",
        "    Verify if a set of vectors forms an orthonormal basis.\n",
        "\n",
        "    Parameters:\n",
        "    basis (ndarray): An array where each row represents a vector.\n",
        "\n",
        "    Returns:\n",
        "    bool: True if the vectors are orthonormal, False otherwise.\n",
        "    \"\"\"\n",
        "    for i in range(basis.shape[0]):\n",
        "        for j in range(basis.shape[0]):\n",
        "            dot_product = np.dot(basis[i], basis[j])\n",
        "            if i == j:\n",
        "                if not np.isclose(dot_product, 1):\n",
        "                    return False\n",
        "            else:\n",
        "                if not np.isclose(dot_product, 0):\n",
        "                    return False\n",
        "    return True\n",
        "\n",
        "# Verify the orthonormal basis\n",
        "is_orthonormal = verify_orthonormality(orthonormal_basis)\n",
        "print(\"\\nOrthonormality Check:\", is_orthonormal)"
      ],
      "metadata": {
        "colab": {
          "base_uri": "https://localhost:8080/"
        },
        "id": "dsC_CloPxwzp",
        "outputId": "9381f4d1-7d74-4521-b355-e2321722487a"
      },
      "execution_count": null,
      "outputs": [
        {
          "output_type": "stream",
          "name": "stdout",
          "text": [
            "\n",
            "Orthonormality Check: False\n"
          ]
        }
      ]
    },
    {
      "cell_type": "markdown",
      "source": [
        "**3. Applications of the Orthonormal Basis**\n",
        "\n",
        "We can use the *orthonormal basis* to project a vector onto the subspace spanned by the orthonormal vectors."
      ],
      "metadata": {
        "id": "3AmM1YJ5x0UR"
      }
    },
    {
      "cell_type": "code",
      "source": [
        "# Example vector to project\n",
        "v = np.array([1, 2, 3])\n",
        "\n",
        "# Projection of v onto the subspace spanned by the orthonormal basis\n",
        "projection = np.zeros_like(v)\n",
        "\n",
        "for qi in orthonormal_basis:\n",
        "    projection += np.dot(v, qi) * qi\n",
        "\n",
        "print(\"\\nVector v:\", v)\n",
        "print(\"Projection of v onto the subspace:\", projection)"
      ],
      "metadata": {
        "colab": {
          "base_uri": "https://localhost:8080/"
        },
        "id": "LujkicjAx88h",
        "outputId": "5b6d06d7-b8f0-4a27-b477-31fdee508a37"
      },
      "execution_count": null,
      "outputs": [
        {
          "output_type": "stream",
          "name": "stdout",
          "text": [
            "\n",
            "Vector v: [1 2 3]\n",
            "Projection of v onto the subspace: [0 0 0]\n"
          ]
        }
      ]
    },
    {
      "cell_type": "markdown",
      "source": [
        "**4. Visualization of the Gram-Schmidt Process**\n",
        "\n",
        "To visualize the Gram-Schmidt process and the orthonormal basis, we can plot the vectors using **`matplotlib`**."
      ],
      "metadata": {
        "id": "wVCX9bm2yALR"
      }
    },
    {
      "cell_type": "code",
      "source": [
        "import matplotlib.pyplot as plt\n",
        "from mpl_toolkits.mplot3d import Axes3D\n",
        "\n",
        "# Plot the original vectors and the orthonormal basis\n",
        "fig = plt.figure()\n",
        "ax = fig.add_subplot(111, projection='3d')\n",
        "\n",
        "# Plot original vectors\n",
        "ax.quiver(0, 0, 0, a1[0], a1[1], a1[2], color='r', label='a1')\n",
        "ax.quiver(0, 0, 0, a2[0], a2[1], a2[2], color='g', label='a2')\n",
        "ax.quiver(0, 0, 0, a3[0], a3[1], a3[2], color='b', label='a3')\n",
        "\n",
        "# Plot orthonormal basis vectors\n",
        "for i, qi in enumerate(orthonormal_basis):\n",
        "    ax.quiver(0, 0, 0, qi[0], qi[1], qi[2], color='c', alpha=0.6, linestyle='--', label=f'q{i+1}')\n",
        "\n",
        "ax.set_xlim([-1, 1])\n",
        "ax.set_ylim([-1, 1])\n",
        "ax.set_zlim([-1, 1])\n",
        "ax.set_xlabel('X')\n",
        "ax.set_ylabel('Y')\n",
        "ax.set_zlabel('Z')\n",
        "ax.legend()\n",
        "plt.show()"
      ],
      "metadata": {
        "colab": {
          "base_uri": "https://localhost:8080/",
          "height": 418
        },
        "id": "dIRenZ5ByFWB",
        "outputId": "137eb412-c971-484b-8e28-46693d627ca2"
      },
      "execution_count": null,
      "outputs": [
        {
          "output_type": "display_data",
          "data": {
            "text/plain": [
              "<Figure size 640x480 with 1 Axes>"
            ],
            "image/png": "[encoded data removed]"
          },
          "metadata": {}
        }
      ]
    },
    {
      "cell_type": "markdown",
      "source": [
        "# **1.2.4. Eigenvalues and eigenvectors**\n",
        "\n",
        "**1. Computing Eigenvalues and Eigenvectors**\n",
        "\n",
        "To compute the eigenvalues and eigenvectors of a matrix, we will use the NumPy library."
      ],
      "metadata": {
        "id": "ZlQvM-1nyeey"
      }
    },
    {
      "cell_type": "code",
      "source": [
        "import numpy as np\n",
        "\n",
        "# Define a square matrix A\n",
        "A = np.array([[4, 1], [2, 3]])\n",
        "\n",
        "# Compute eigenvalues and eigenvectors using NumPy\n",
        "eigenvalues, eigenvectors = np.linalg.eig(A)\n",
        "\n",
        "print(\"Matrix A:\")\n",
        "print(A)\n",
        "print(\"\\nEigenvalues of A:\")\n",
        "print(eigenvalues)\n",
        "print(\"\\nEigenvectors of A:\")\n",
        "print(eigenvectors)"
      ],
      "metadata": {
        "colab": {
          "base_uri": "https://localhost:8080/"
        },
        "id": "huLtj-t5zhMo",
        "outputId": "ca457c59-499d-48e0-b5ba-1d95f2d246f3"
      },
      "execution_count": null,
      "outputs": [
        {
          "output_type": "stream",
          "name": "stdout",
          "text": [
            "Matrix A:\n",
            "[[4 1]\n",
            " [2 3]]\n",
            "\n",
            "Eigenvalues of A:\n",
            "[5. 2.]\n",
            "\n",
            "Eigenvectors of A:\n",
            "[[ 0.70710678 -0.4472136 ]\n",
            " [ 0.70710678  0.89442719]]\n"
          ]
        }
      ]
    },
    {
      "cell_type": "markdown",
      "source": [
        "**2. Example of a Matrix with No Real Eigenvalues**\n",
        "\n",
        "The matrix from Example 1.2.22 in the book:\n",
        "\n",
        "\\\n",
        "\\begin{aligned}\n",
        "A &= \\begin{bmatrix}\n",
        "0 & -1 \\\\\n",
        "1 & 0\n",
        "\\end{bmatrix}\n",
        "\\end{aligned}\n",
        "\n",
        "This matrix has no real eigenvalues. Let's demonstrate this:"
      ],
      "metadata": {
        "id": "KnOoYMj3zt7S"
      }
    },
    {
      "cell_type": "code",
      "source": [
        "# Define the matrix A\n",
        "A_no_real = np.array([[0, -1], [1, 0]])\n",
        "\n",
        "# Compute eigenvalues and eigenvectors\n",
        "eigenvalues_no_real, eigenvectors_no_real = np.linalg.eig(A_no_real)\n",
        "\n",
        "print(\"\\nMatrix A with no real eigenvalues:\")\n",
        "print(A_no_real)\n",
        "print(\"\\nEigenvalues of A (no real eigenvalues):\")\n",
        "print(eigenvalues_no_real)\n",
        "print(\"\\nEigenvectors of A (no real eigenvalues):\")\n",
        "print(eigenvectors_no_real)"
      ],
      "metadata": {
        "colab": {
          "base_uri": "https://localhost:8080/"
        },
        "id": "RVaQQSkf1unI",
        "outputId": "9ca5e479-2c81-4416-9e9d-7b2998096098"
      },
      "execution_count": null,
      "outputs": [
        {
          "output_type": "stream",
          "name": "stdout",
          "text": [
            "\n",
            "Matrix A with no real eigenvalues:\n",
            "[[ 0 -1]\n",
            " [ 1  0]]\n",
            "\n",
            "Eigenvalues of A (no real eigenvalues):\n",
            "[0.+1.j 0.-1.j]\n",
            "\n",
            "Eigenvectors of A (no real eigenvalues):\n",
            "[[0.70710678+0.j         0.70710678-0.j        ]\n",
            " [0.        -0.70710678j 0.        +0.70710678j]]\n"
          ]
        }
      ]
    },
    {
      "cell_type": "markdown",
      "source": [
        "**3. Diagonalization of Symmetric Matrices**\n",
        "\n",
        "We will demonstrate the *diagonalization* of a symmetric matrix. Symmetric matrices have real eigenvalues, and they can be diagonalized using their eigenvectors."
      ],
      "metadata": {
        "id": "2p4bkcgF2lLZ"
      }
    },
    {
      "cell_type": "code",
      "source": [
        "# Define a symmetric matrix A\n",
        "A_symmetric = np.array([[2, 1], [1, 2]])\n",
        "\n",
        "# Compute eigenvalues and eigenvectors\n",
        "eigenvalues_symmetric, eigenvectors_symmetric = np.linalg.eig(A_symmetric)\n",
        "\n",
        "# Diagonal matrix D\n",
        "D = np.diag(eigenvalues_symmetric)\n",
        "\n",
        "# Matrix P (eigenvectors)\n",
        "P = eigenvectors_symmetric\n",
        "\n",
        "# Verify the diagonalization A = PDP^(-1)\n",
        "A_diagonalized = P @ D @ np.linalg.inv(P)\n",
        "\n",
        "print(\"\\nSymmetric Matrix A:\")\n",
        "print(A_symmetric)\n",
        "print(\"\\nEigenvalues of A:\")\n",
        "print(eigenvalues_symmetric)\n",
        "print(\"\\nEigenvectors of A:\")\n",
        "print(eigenvectors_symmetric)\n",
        "print(\"\\nDiagonal Matrix D:\")\n",
        "print(D)\n",
        "print(\"\\nPDP^(-1):\")\n",
        "print(A_diagonalized)"
      ],
      "metadata": {
        "colab": {
          "base_uri": "https://localhost:8080/"
        },
        "id": "A--ubDEB2s9x",
        "outputId": "5a4c5582-35f4-4f3b-e631-0409786833b6"
      },
      "execution_count": null,
      "outputs": [
        {
          "output_type": "stream",
          "name": "stdout",
          "text": [
            "\n",
            "Symmetric Matrix A:\n",
            "[[2 1]\n",
            " [1 2]]\n",
            "\n",
            "Eigenvalues of A:\n",
            "[3. 1.]\n",
            "\n",
            "Eigenvectors of A:\n",
            "[[ 0.70710678 -0.70710678]\n",
            " [ 0.70710678  0.70710678]]\n",
            "\n",
            "Diagonal Matrix D:\n",
            "[[3. 0.]\n",
            " [0. 1.]]\n",
            "\n",
            "PDP^(-1):\n",
            "[[2. 1.]\n",
            " [1. 2.]]\n"
          ]
        }
      ]
    },
    {
      "cell_type": "markdown",
      "source": [
        "**4. Constrained Optimization using Eigenvalues**\n",
        "\n",
        "We demonstrate *constrained optimization* where we minimize or maximize a quadratic form using the eigenvalues of a symmetric matrix."
      ],
      "metadata": {
        "id": "MTZ-CBXm2zp5"
      }
    },
    {
      "cell_type": "code",
      "source": [
        "# Define a symmetric matrix A\n",
        "A_symmetric = np.array([[2, 1], [1, 2]])\n",
        "\n",
        "# Compute eigenvalues and eigenvectors\n",
        "eigenvalues_symmetric, eigenvectors_symmetric = np.linalg.eig(A_symmetric)\n",
        "\n",
        "# Constrained optimization: minimize and maximize the quadratic form\n",
        "lambda_min = np.min(eigenvalues_symmetric)\n",
        "lambda_max = np.max(eigenvalues_symmetric)\n",
        "v_min = eigenvectors_symmetric[:, np.argmin(eigenvalues_symmetric)]\n",
        "v_max = eigenvectors_symmetric[:, np.argmax(eigenvalues_symmetric)]\n",
        "\n",
        "print(\"\\nEigenvalues of A:\")\n",
        "print(eigenvalues_symmetric)\n",
        "print(\"\\nMinimum Eigenvalue (lambda_min):\", lambda_min)\n",
        "print(\"Eigenvector corresponding to lambda_min:\")\n",
        "print(v_min)\n",
        "print(\"\\nMaximum Eigenvalue (lambda_max):\", lambda_max)\n",
        "print(\"Eigenvector corresponding to lambda_max:\")\n",
        "print(v_max)\n",
        "\n",
        "# Quadratic form minimization and maximization\n",
        "print(\"\\nMinimized quadratic form (x^T A x / x^T x):\", lambda_min)\n",
        "print(\"Maximized quadratic form (x^T A x / x^T x):\", lambda_max)"
      ],
      "metadata": {
        "colab": {
          "base_uri": "https://localhost:8080/"
        },
        "id": "SQzzgXCd26Mw",
        "outputId": "86d4cc96-6bee-4192-e8a5-f2d3d78dc5aa"
      },
      "execution_count": null,
      "outputs": [
        {
          "output_type": "stream",
          "name": "stdout",
          "text": [
            "\n",
            "Eigenvalues of A:\n",
            "[3. 1.]\n",
            "\n",
            "Minimum Eigenvalue (lambda_min): 1.0\n",
            "Eigenvector corresponding to lambda_min:\n",
            "[-0.70710678  0.70710678]\n",
            "\n",
            "Maximum Eigenvalue (lambda_max): 3.0\n",
            "Eigenvector corresponding to lambda_max:\n",
            "[0.70710678 0.70710678]\n",
            "\n",
            "Minimized quadratic form (x^T A x / x^T x): 1.0\n",
            "Maximized quadratic form (x^T A x / x^T x): 3.0\n"
          ]
        }
      ]
    }
  ]
}